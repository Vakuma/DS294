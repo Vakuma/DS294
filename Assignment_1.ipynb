{
 "cells": [
  {
   "cell_type": "markdown",
   "metadata": {},
   "source": [
    "# Assignment_1\n",
    "## Feature sign search algorithm\n",
    "\n",
    "##### A:2D Matrix of basis vectors\n",
    "##### y:input vector to be sparsely encoded\n",
    "##### gamma: sparsity co-efficient\n",
    "##### x: output sparse encoding of y on the basis A with sparsity co-efficient gamma\n"
   ]
  },
  {
   "cell_type": "code",
   "execution_count": 10,
   "metadata": {
    "collapsed": true
   },
   "outputs": [],
   "source": [
    "import numpy as np\n",
    "\n",
    "def feature_sign_search(A, y, gamma):\n",
    "    \n",
    "    effective_zero = 1e-18\n",
    "    \n",
    "    gram_matrix = np.dot(A.T, A)\n",
    "\n",
    "    target_correlation = np.dot(A.T, y)\n",
    "   \n",
    "    x = np.zeros(gram_matrix.shape[0])\n",
    "    theta = np.zeros(gram_matrix.shape[0], dtype=np.int8)\n",
    "    active_set = set()\n",
    "    z_opt = np.inf\n",
    "    nz_opt = 0\n",
    "    grad = - 2 * target_correlation  # + 2 * np.dot(gram_matrix, x)\n",
    "    max_grad_zero = np.argmax(np.abs(grad))\n",
    "    \n",
    "    sds = np.dot(y.T, y)\n",
    "    while z_opt > gamma or not np.allclose(nz_opt, 0):\n",
    "        if np.allclose(nz_opt, 0):\n",
    "            candidate = np.argmax(np.abs(grad) * (theta == 0))\n",
    "            if grad[candidate] > gamma:\n",
    "                theta[candidate] = -1.\n",
    "                x[candidate] = 0.\n",
    "                active_set.add(candidate)\n",
    "            elif grad[candidate] < -gamma:\n",
    "                theta[candidate] = 1.\n",
    "                x[candidate] = 0.\n",
    "                active_set.add(candidate)\n",
    "            if len(active_set) == 0:\n",
    "                break\n",
    "        indices = np.array(sorted(active_set))\n",
    "        restr_gram = gram_matrix[np.ix_(indices, indices)]\n",
    "        restr_corr = target_correlation[indices]\n",
    "        restr_sign = theta[indices]\n",
    "        rhs = restr_corr - gamma * restr_sign / 2\n",
    "        new_x = np.linalg.solve(np.atleast_2d(restr_gram), rhs)\n",
    "        new_theta = np.sign(new_x)\n",
    "        restr_oldsol = x[indices]\n",
    "        sign_flips = np.where(abs(new_theta - restr_sign) > 1)[0]\n",
    "        if len(sign_flips) > 0:\n",
    "            best_obj = np.inf\n",
    "            best_curr = None\n",
    "            best_curr = new_x\n",
    "            best_obj = (sds + (np.dot(new_x,\n",
    "                                      np.dot(restr_gram, new_x))\n",
    "                        - 2 * np.dot(new_x, restr_corr))\n",
    "                        + gamma * abs(new_x).sum())\n",
    "            for idx in sign_flips:\n",
    "                a = new_x[idx]\n",
    "                b = restr_oldsol[idx]\n",
    "                prop = b / (b - a)\n",
    "                curr = restr_oldsol - prop * (restr_oldsol - new_x)\n",
    "                cost = sds + (np.dot(curr, np.dot(restr_gram, curr))\n",
    "                              - 2 * np.dot(curr, restr_corr)\n",
    "                              + gamma * abs(curr).sum())\n",
    "                if cost < best_obj:\n",
    "                    best_obj = cost\n",
    "                    best_prop = prop\n",
    "                    best_curr = curr\n",
    "        else:\n",
    "            best_curr = new_x\n",
    "        x[indices] = best_curr\n",
    "        zeros = indices[np.abs(x[indices]) < effective_zero]\n",
    "        x[zeros] = 0.\n",
    "        theta[indices] = np.int8(np.sign(x[indices]))\n",
    "        \n",
    "        active_set.difference_update(zeros)\n",
    "        grad = - 2 * target_correlation + 2 * np.dot(gram_matrix, x)\n",
    "        if len(grad[theta == 0]) == 0:\n",
    "             break\n",
    "        z_opt = np.max(abs(grad[theta == 0]))\n",
    "        nz_opt = np.max(abs(grad[theta != 0] + gamma * theta[theta != 0]))\n",
    "    return x"
   ]
  },
  {
   "cell_type": "markdown",
   "metadata": {},
   "source": [
    "#### Example"
   ]
  },
  {
   "cell_type": "code",
   "execution_count": 11,
   "metadata": {
    "collapsed": false
   },
   "outputs": [
    {
     "name": "stdout",
     "output_type": "stream",
     "text": [
      "Original input vector\n",
      "\n",
      "[1 2 3 4 5]\n",
      "Reconstructed vector\n",
      "\n",
      "[ 0.995       1.99666667  2.9994      3.9992      4.999     ]\n",
      "Sparse representation\n",
      "\n",
      "[ 0.9998      0.995       0.          1.33111111  0.9998      0.          0.        ]\n"
     ]
    }
   ],
   "source": [
    "input = np.array([1,2,3,4,5])\n",
    "basis = np.array([[0,0,0,0,5],[1,0,0,0,0],[0,1,0,0,0],[0,1.5,0,0,0],[0,0,3,4,0],[0,0,0,1,0],[0,0,0,0,1]]).T\n",
    "sparsity = 0.01\n",
    "sparse_encoding = feature_sign_search(basis,input,sparsity)\n",
    "print(u'Original input vector\\n')\n",
    "print(input)\n",
    "print(u'Reconstructed vector\\n')\n",
    "print(np.matmul(basis,sparse_encoding))\n",
    "print(u'Sparse representation\\n')\n",
    "print(sparse_encoding)"
   ]
  }
 ],
 "metadata": {
  "kernelspec": {
   "display_name": "Python 3",
   "language": "python",
   "name": "python3"
  },
  "language_info": {
   "codemirror_mode": {
    "name": "ipython",
    "version": 3
   },
   "file_extension": ".py",
   "mimetype": "text/x-python",
   "name": "python",
   "nbconvert_exporter": "python",
   "pygments_lexer": "ipython3",
   "version": "3.6.0"
  }
 },
 "nbformat": 4,
 "nbformat_minor": 2
}
