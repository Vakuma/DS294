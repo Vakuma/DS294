{
 "cells": [
  {
   "cell_type": "markdown",
   "metadata": {},
   "source": [
    "# Assignment_1\n",
    "## Feature sign search algorithm\n",
    "\n",
    "##### A:2D Matrix of basis vectors\n",
    "##### y:input vector to be sparsely encoded\n",
    "##### gamma: sparsity co-efficient\n",
    "##### x: output sparse encoding of y on the basis A with sparsity co-efficient gamma\n"
   ]
  },
  {
   "cell_type": "code",
   "execution_count": 1,
   "metadata": {
    "collapsed": true
   },
   "outputs": [],
   "source": [
    "import numpy as np\n",
    "\n",
    "def feature_sign_search(A, y, gamma):\n",
    "    \n",
    "    effective_zero = 1e-18\n",
    "    \n",
    "    A_t__A = np.dot(A.T, A)\n",
    "\n",
    "    A_t__y = np.dot(A.T, y)\n",
    "   \n",
    "    x = np.zeros(A_t__A.shape[0])\n",
    "    theta = np.zeros(A_t__A.shape[0], dtype=np.int8)\n",
    "    active_set = set()\n",
    "    z_opt = np.inf\n",
    "    nz_opt = 0\n",
    "    gradient = - 2 * A_t__y  # + 2 * np.dot(A_t__A, x)\n",
    "    max_gradient_zero = np.argmax(np.abs(gradient))\n",
    "    \n",
    "    sds = np.dot(y.T, y)\n",
    "    while z_opt > gamma or not np.allclose(nz_opt, 0):\n",
    "        if np.allclose(nz_opt, 0):\n",
    "            candidate = np.argmax(np.abs(gradient) * (theta == 0))\n",
    "            if gradient[candidate] > gamma:\n",
    "                theta[candidate] = -1.\n",
    "                x[candidate] = 0.\n",
    "                active_set.add(candidate)\n",
    "            elif gradient[candidate] < -gamma:\n",
    "                theta[candidate] = 1.\n",
    "                x[candidate] = 0.\n",
    "                active_set.add(candidate)\n",
    "            if len(active_set) == 0:\n",
    "                break\n",
    "        indices = np.array(sorted(active_set))\n",
    "        A_t__A_new = A_t__A[np.ix_(indices, indices)]\n",
    "        A_t__y_new = A_t__y[indices]\n",
    "        theta_ = theta[indices]\n",
    "        rhs = A_t__y_new - gamma * theta_ / 2\n",
    "        x_new = np.linalg.solve(np.atleast_2d(A_t__A_new), rhs)\n",
    "        new_theta = np.sign(x_new)\n",
    "        _oldsol = x[indices]\n",
    "        sign_flips = np.where(abs(new_theta - theta_) > 1)[0]\n",
    "        print(new_theta,theta_,indices,x_new)\n",
    "        if len(sign_flips) > 0:\n",
    "            best_obj = np.inf\n",
    "            best_curr = None\n",
    "            best_curr = x_new\n",
    "            best_obj = (sds + (np.dot(x_new,\n",
    "                                      np.dot(A_t__A_new, x_new))\n",
    "                        - 2 * np.dot(x_new, A_t__y_new))\n",
    "                        + gamma * abs(x_new).sum())\n",
    "            for idx in sign_flips:\n",
    "                a = x_new[idx]\n",
    "                b = _oldsol[idx]\n",
    "                prop = b / (b - a)\n",
    "                curr = _oldsol - prop * (_oldsol - x_new)\n",
    "                cost = sds + (np.dot(curr, np.dot(A_t__A_new, curr))\n",
    "                              - 2 * np.dot(curr, A_t__y_new)\n",
    "                              + gamma * abs(curr).sum())\n",
    "                if cost < best_obj:\n",
    "                    best_obj = cost\n",
    "                    best_prop = prop\n",
    "                    best_curr = curr\n",
    "        else:\n",
    "            best_curr = x_new\n",
    "        x[indices] = best_curr\n",
    "        zeros = indices[np.abs(x[indices]) < effective_zero]\n",
    "        x[zeros] = 0.\n",
    "        theta[indices] = np.int8(np.sign(x[indices]))\n",
    "        \n",
    "        active_set.difference_update(zeros)\n",
    "        gradient = - 2 * A_t__y + 2 * np.dot(A_t__A, x)\n",
    "        print(gradient[theta == 0])\n",
    "        if len(gradient[theta == 0]) == 0:\n",
    "             break\n",
    "        z_opt = np.max(abs(gradient[theta == 0]))\n",
    "        nz_opt = np.max(abs(gradient[theta != 0] + gamma * theta[theta != 0]))\n",
    "    return x"
   ]
  },
  {
   "cell_type": "markdown",
   "metadata": {},
   "source": [
    "#### Example"
   ]
  },
  {
   "cell_type": "code",
   "execution_count": 2,
   "metadata": {
    "collapsed": false
   },
   "outputs": [
    {
     "name": "stdout",
     "output_type": "stream",
     "text": [
      "[ 1.] [1] [0] [ 0.9998]\n",
      "[ -2.00000000e+00  -4.00000000e+00  -6.00000000e+00  -5.00000000e+01\n",
      "  -8.00000000e+00  -2.00000000e-03]\n",
      "[ 1.  1.] [1 1] [0 4] [ 0.9998  0.9998]\n",
      "[ -2.00000000e+00  -4.00000000e+00  -6.00000000e+00  -1.60000000e-03\n",
      "  -2.00000000e-03]\n",
      "[ 1.  1.  1.] [1 1 1] [0 3 4] [ 0.9998      1.33111111  0.9998    ]\n",
      "[ -2.00000000e+00  -6.66666667e-03  -1.60000000e-03  -2.00000000e-03]\n",
      "[ 1.  1.  1.  1.] [1 1 1 1] [0 1 3 4] [ 0.9998      0.995       1.33111111  0.9998    ]\n",
      "[-0.00666667 -0.0016     -0.002     ]\n",
      "Original input vector\n",
      "\n",
      "[1 2 3 4 5]\n",
      "Reconstructed vector\n",
      "\n",
      "[ 0.995       1.99666667  2.9994      3.9992      4.999     ]\n",
      "Sparse representation\n",
      "\n",
      "[ 0.9998      0.995       0.          1.33111111  0.9998      0.          0.        ]\n"
     ]
    }
   ],
   "source": [
    "input = np.array([1,2,3,4,5])\n",
    "basis = np.array([[0,0,0,0,5],[1,0,0,0,0],[0,1,0,0,0],[0,1.5,0,0,0],[0,0,3,4,0],[0,0,0,1,0],[0,0,0,0,1]]).T\n",
    "sparsity = 0.01\n",
    "sparse_encoding = feature_sign_search(basis,input,sparsity)\n",
    "print(u'Original input vector\\n')\n",
    "print(input)\n",
    "print(u'Reconstructed vector\\n')\n",
    "print(np.matmul(basis,sparse_encoding))\n",
    "print(u'Sparse representation\\n')\n",
    "print(sparse_encoding)"
   ]
  }
 ],
 "metadata": {
  "kernelspec": {
   "display_name": "Python 3",
   "language": "python",
   "name": "python3"
  },
  "language_info": {
   "codemirror_mode": {
    "name": "ipython",
    "version": 3
   },
   "file_extension": ".py",
   "mimetype": "text/x-python",
   "name": "python",
   "nbconvert_exporter": "python",
   "pygments_lexer": "ipython3",
   "version": "3.6.0"
  }
 },
 "nbformat": 4,
 "nbformat_minor": 2
}
